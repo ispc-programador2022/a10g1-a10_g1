{
 "cells": [
  {
   "cell_type": "code",
   "execution_count": 1,
   "metadata": {},
   "outputs": [
    {
     "name": "stdout",
     "output_type": "stream",
     "text": [
      "Primer Trabajo Practico\n"
     ]
    }
   ],
   "source": [
    "mensaje = \"Primer Trabajo Practico\"\n",
    "\n",
    "print(mensaje)"
   ]
  }
 ],
 "metadata": {
  "interpreter": {
   "hash": "8d774de1f57fcb15600eba455df1e7f41b11e9014e15ccf7d3afc5f14691abdb"
  },
  "kernelspec": {
   "display_name": "Python 3.10.1 64-bit",
   "language": "python",
   "name": "python3"
  },
  "language_info": {
   "codemirror_mode": {
    "name": "ipython",
    "version": 3
   },
   "file_extension": ".py",
   "mimetype": "text/x-python",
   "name": "python",
   "nbconvert_exporter": "python",
   "pygments_lexer": "ipython3",
   "version": "3.10.1"
  },
  "orig_nbformat": 4
 },
 "nbformat": 4,
 "nbformat_minor": 2
}
